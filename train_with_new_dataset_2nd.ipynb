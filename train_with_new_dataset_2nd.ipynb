{
  "nbformat": 4,
  "nbformat_minor": 0,
  "metadata": {
    "colab": {
      "provenance": [],
      "gpuType": "T4",
      "authorship_tag": "ABX9TyMX44x2dXlnMYbXTJy7/UvC",
      "include_colab_link": true
    },
    "kernelspec": {
      "name": "python3",
      "display_name": "Python 3"
    },
    "language_info": {
      "name": "python"
    },
    "accelerator": "GPU",
    "widgets": {
      "application/vnd.jupyter.widget-state+json": {
        "8567c8b6ca8e4d878591ce227929e2a3": {
          "model_module": "@jupyter-widgets/controls",
          "model_name": "HBoxModel",
          "model_module_version": "1.5.0",
          "state": {
            "_dom_classes": [],
            "_model_module": "@jupyter-widgets/controls",
            "_model_module_version": "1.5.0",
            "_model_name": "HBoxModel",
            "_view_count": null,
            "_view_module": "@jupyter-widgets/controls",
            "_view_module_version": "1.5.0",
            "_view_name": "HBoxView",
            "box_style": "",
            "children": [
              "IPY_MODEL_53b4651ba7b948baae46dc56e75ffdba",
              "IPY_MODEL_a0cde72f09ea4ab3bdaf98c40ef41ff7",
              "IPY_MODEL_99015a00a1384d898c202221233029aa"
            ],
            "layout": "IPY_MODEL_82ee99507f0745438ebff2b5d86ff86e"
          }
        },
        "53b4651ba7b948baae46dc56e75ffdba": {
          "model_module": "@jupyter-widgets/controls",
          "model_name": "HTMLModel",
          "model_module_version": "1.5.0",
          "state": {
            "_dom_classes": [],
            "_model_module": "@jupyter-widgets/controls",
            "_model_module_version": "1.5.0",
            "_model_name": "HTMLModel",
            "_view_count": null,
            "_view_module": "@jupyter-widgets/controls",
            "_view_module_version": "1.5.0",
            "_view_name": "HTMLView",
            "description": "",
            "description_tooltip": null,
            "layout": "IPY_MODEL_faf9ee32d8d84952ab1d074beb0faf3b",
            "placeholder": "​",
            "style": "IPY_MODEL_1841f1a0325a4f409a5059d362c07217",
            "value": "config.json: 100%"
          }
        },
        "a0cde72f09ea4ab3bdaf98c40ef41ff7": {
          "model_module": "@jupyter-widgets/controls",
          "model_name": "FloatProgressModel",
          "model_module_version": "1.5.0",
          "state": {
            "_dom_classes": [],
            "_model_module": "@jupyter-widgets/controls",
            "_model_module_version": "1.5.0",
            "_model_name": "FloatProgressModel",
            "_view_count": null,
            "_view_module": "@jupyter-widgets/controls",
            "_view_module_version": "1.5.0",
            "_view_name": "ProgressView",
            "bar_style": "success",
            "description": "",
            "description_tooltip": null,
            "layout": "IPY_MODEL_ff3626347c83463daa4c0fc1bde67b28",
            "max": 519,
            "min": 0,
            "orientation": "horizontal",
            "style": "IPY_MODEL_1696dc7cd94845c192a28b86daadfe2a",
            "value": 519
          }
        },
        "99015a00a1384d898c202221233029aa": {
          "model_module": "@jupyter-widgets/controls",
          "model_name": "HTMLModel",
          "model_module_version": "1.5.0",
          "state": {
            "_dom_classes": [],
            "_model_module": "@jupyter-widgets/controls",
            "_model_module_version": "1.5.0",
            "_model_name": "HTMLModel",
            "_view_count": null,
            "_view_module": "@jupyter-widgets/controls",
            "_view_module_version": "1.5.0",
            "_view_name": "HTMLView",
            "description": "",
            "description_tooltip": null,
            "layout": "IPY_MODEL_d572a9cf76034aaa993c128aa6b004a7",
            "placeholder": "​",
            "style": "IPY_MODEL_56312abce65c426fa2e6281945fa5ed0",
            "value": " 519/519 [00:00&lt;00:00, 57.6kB/s]"
          }
        },
        "82ee99507f0745438ebff2b5d86ff86e": {
          "model_module": "@jupyter-widgets/base",
          "model_name": "LayoutModel",
          "model_module_version": "1.2.0",
          "state": {
            "_model_module": "@jupyter-widgets/base",
            "_model_module_version": "1.2.0",
            "_model_name": "LayoutModel",
            "_view_count": null,
            "_view_module": "@jupyter-widgets/base",
            "_view_module_version": "1.2.0",
            "_view_name": "LayoutView",
            "align_content": null,
            "align_items": null,
            "align_self": null,
            "border": null,
            "bottom": null,
            "display": null,
            "flex": null,
            "flex_flow": null,
            "grid_area": null,
            "grid_auto_columns": null,
            "grid_auto_flow": null,
            "grid_auto_rows": null,
            "grid_column": null,
            "grid_gap": null,
            "grid_row": null,
            "grid_template_areas": null,
            "grid_template_columns": null,
            "grid_template_rows": null,
            "height": null,
            "justify_content": null,
            "justify_items": null,
            "left": null,
            "margin": null,
            "max_height": null,
            "max_width": null,
            "min_height": null,
            "min_width": null,
            "object_fit": null,
            "object_position": null,
            "order": null,
            "overflow": null,
            "overflow_x": null,
            "overflow_y": null,
            "padding": null,
            "right": null,
            "top": null,
            "visibility": null,
            "width": null
          }
        },
        "faf9ee32d8d84952ab1d074beb0faf3b": {
          "model_module": "@jupyter-widgets/base",
          "model_name": "LayoutModel",
          "model_module_version": "1.2.0",
          "state": {
            "_model_module": "@jupyter-widgets/base",
            "_model_module_version": "1.2.0",
            "_model_name": "LayoutModel",
            "_view_count": null,
            "_view_module": "@jupyter-widgets/base",
            "_view_module_version": "1.2.0",
            "_view_name": "LayoutView",
            "align_content": null,
            "align_items": null,
            "align_self": null,
            "border": null,
            "bottom": null,
            "display": null,
            "flex": null,
            "flex_flow": null,
            "grid_area": null,
            "grid_auto_columns": null,
            "grid_auto_flow": null,
            "grid_auto_rows": null,
            "grid_column": null,
            "grid_gap": null,
            "grid_row": null,
            "grid_template_areas": null,
            "grid_template_columns": null,
            "grid_template_rows": null,
            "height": null,
            "justify_content": null,
            "justify_items": null,
            "left": null,
            "margin": null,
            "max_height": null,
            "max_width": null,
            "min_height": null,
            "min_width": null,
            "object_fit": null,
            "object_position": null,
            "order": null,
            "overflow": null,
            "overflow_x": null,
            "overflow_y": null,
            "padding": null,
            "right": null,
            "top": null,
            "visibility": null,
            "width": null
          }
        },
        "1841f1a0325a4f409a5059d362c07217": {
          "model_module": "@jupyter-widgets/controls",
          "model_name": "DescriptionStyleModel",
          "model_module_version": "1.5.0",
          "state": {
            "_model_module": "@jupyter-widgets/controls",
            "_model_module_version": "1.5.0",
            "_model_name": "DescriptionStyleModel",
            "_view_count": null,
            "_view_module": "@jupyter-widgets/base",
            "_view_module_version": "1.2.0",
            "_view_name": "StyleView",
            "description_width": ""
          }
        },
        "ff3626347c83463daa4c0fc1bde67b28": {
          "model_module": "@jupyter-widgets/base",
          "model_name": "LayoutModel",
          "model_module_version": "1.2.0",
          "state": {
            "_model_module": "@jupyter-widgets/base",
            "_model_module_version": "1.2.0",
            "_model_name": "LayoutModel",
            "_view_count": null,
            "_view_module": "@jupyter-widgets/base",
            "_view_module_version": "1.2.0",
            "_view_name": "LayoutView",
            "align_content": null,
            "align_items": null,
            "align_self": null,
            "border": null,
            "bottom": null,
            "display": null,
            "flex": null,
            "flex_flow": null,
            "grid_area": null,
            "grid_auto_columns": null,
            "grid_auto_flow": null,
            "grid_auto_rows": null,
            "grid_column": null,
            "grid_gap": null,
            "grid_row": null,
            "grid_template_areas": null,
            "grid_template_columns": null,
            "grid_template_rows": null,
            "height": null,
            "justify_content": null,
            "justify_items": null,
            "left": null,
            "margin": null,
            "max_height": null,
            "max_width": null,
            "min_height": null,
            "min_width": null,
            "object_fit": null,
            "object_position": null,
            "order": null,
            "overflow": null,
            "overflow_x": null,
            "overflow_y": null,
            "padding": null,
            "right": null,
            "top": null,
            "visibility": null,
            "width": null
          }
        },
        "1696dc7cd94845c192a28b86daadfe2a": {
          "model_module": "@jupyter-widgets/controls",
          "model_name": "ProgressStyleModel",
          "model_module_version": "1.5.0",
          "state": {
            "_model_module": "@jupyter-widgets/controls",
            "_model_module_version": "1.5.0",
            "_model_name": "ProgressStyleModel",
            "_view_count": null,
            "_view_module": "@jupyter-widgets/base",
            "_view_module_version": "1.2.0",
            "_view_name": "StyleView",
            "bar_color": null,
            "description_width": ""
          }
        },
        "d572a9cf76034aaa993c128aa6b004a7": {
          "model_module": "@jupyter-widgets/base",
          "model_name": "LayoutModel",
          "model_module_version": "1.2.0",
          "state": {
            "_model_module": "@jupyter-widgets/base",
            "_model_module_version": "1.2.0",
            "_model_name": "LayoutModel",
            "_view_count": null,
            "_view_module": "@jupyter-widgets/base",
            "_view_module_version": "1.2.0",
            "_view_name": "LayoutView",
            "align_content": null,
            "align_items": null,
            "align_self": null,
            "border": null,
            "bottom": null,
            "display": null,
            "flex": null,
            "flex_flow": null,
            "grid_area": null,
            "grid_auto_columns": null,
            "grid_auto_flow": null,
            "grid_auto_rows": null,
            "grid_column": null,
            "grid_gap": null,
            "grid_row": null,
            "grid_template_areas": null,
            "grid_template_columns": null,
            "grid_template_rows": null,
            "height": null,
            "justify_content": null,
            "justify_items": null,
            "left": null,
            "margin": null,
            "max_height": null,
            "max_width": null,
            "min_height": null,
            "min_width": null,
            "object_fit": null,
            "object_position": null,
            "order": null,
            "overflow": null,
            "overflow_x": null,
            "overflow_y": null,
            "padding": null,
            "right": null,
            "top": null,
            "visibility": null,
            "width": null
          }
        },
        "56312abce65c426fa2e6281945fa5ed0": {
          "model_module": "@jupyter-widgets/controls",
          "model_name": "DescriptionStyleModel",
          "model_module_version": "1.5.0",
          "state": {
            "_model_module": "@jupyter-widgets/controls",
            "_model_module_version": "1.5.0",
            "_model_name": "DescriptionStyleModel",
            "_view_count": null,
            "_view_module": "@jupyter-widgets/base",
            "_view_module_version": "1.2.0",
            "_view_name": "StyleView",
            "description_width": ""
          }
        },
        "0fe5a67dc2264262a5b3a296cfaa80f7": {
          "model_module": "@jupyter-widgets/controls",
          "model_name": "HBoxModel",
          "model_module_version": "1.5.0",
          "state": {
            "_dom_classes": [],
            "_model_module": "@jupyter-widgets/controls",
            "_model_module_version": "1.5.0",
            "_model_name": "HBoxModel",
            "_view_count": null,
            "_view_module": "@jupyter-widgets/controls",
            "_view_module_version": "1.5.0",
            "_view_name": "HBoxView",
            "box_style": "",
            "children": [
              "IPY_MODEL_079ed49c54e24550b259c666152d40b3",
              "IPY_MODEL_eba6c770daca43f491226c5660dacae9",
              "IPY_MODEL_0534f41b2e7c4b7db4cb6a8bf792e282"
            ],
            "layout": "IPY_MODEL_9dcd848b6ff44e0eb206960459887afa"
          }
        },
        "079ed49c54e24550b259c666152d40b3": {
          "model_module": "@jupyter-widgets/controls",
          "model_name": "HTMLModel",
          "model_module_version": "1.5.0",
          "state": {
            "_dom_classes": [],
            "_model_module": "@jupyter-widgets/controls",
            "_model_module_version": "1.5.0",
            "_model_name": "HTMLModel",
            "_view_count": null,
            "_view_module": "@jupyter-widgets/controls",
            "_view_module_version": "1.5.0",
            "_view_name": "HTMLView",
            "description": "",
            "description_tooltip": null,
            "layout": "IPY_MODEL_0c21efc172154875a3112f2beeadfe66",
            "placeholder": "​",
            "style": "IPY_MODEL_fa751ed6e0a247539fbc72e9bcd69937",
            "value": "vocab.txt: 100%"
          }
        },
        "eba6c770daca43f491226c5660dacae9": {
          "model_module": "@jupyter-widgets/controls",
          "model_name": "FloatProgressModel",
          "model_module_version": "1.5.0",
          "state": {
            "_dom_classes": [],
            "_model_module": "@jupyter-widgets/controls",
            "_model_module_version": "1.5.0",
            "_model_name": "FloatProgressModel",
            "_view_count": null,
            "_view_module": "@jupyter-widgets/controls",
            "_view_module_version": "1.5.0",
            "_view_name": "ProgressView",
            "bar_style": "success",
            "description": "",
            "description_tooltip": null,
            "layout": "IPY_MODEL_3a3c5d1195204c2689e401735f596501",
            "max": 93479,
            "min": 0,
            "orientation": "horizontal",
            "style": "IPY_MODEL_f7ebfd1ab356484f8b9bc5e59009050f",
            "value": 93479
          }
        },
        "0534f41b2e7c4b7db4cb6a8bf792e282": {
          "model_module": "@jupyter-widgets/controls",
          "model_name": "HTMLModel",
          "model_module_version": "1.5.0",
          "state": {
            "_dom_classes": [],
            "_model_module": "@jupyter-widgets/controls",
            "_model_module_version": "1.5.0",
            "_model_name": "HTMLModel",
            "_view_count": null,
            "_view_module": "@jupyter-widgets/controls",
            "_view_module_version": "1.5.0",
            "_view_name": "HTMLView",
            "description": "",
            "description_tooltip": null,
            "layout": "IPY_MODEL_0df6f8dab9b443d48b1c8462cc544b27",
            "placeholder": "​",
            "style": "IPY_MODEL_103d86ce8a124138be9d01885db1fa38",
            "value": " 93.5k/93.5k [00:00&lt;00:00, 4.93MB/s]"
          }
        },
        "9dcd848b6ff44e0eb206960459887afa": {
          "model_module": "@jupyter-widgets/base",
          "model_name": "LayoutModel",
          "model_module_version": "1.2.0",
          "state": {
            "_model_module": "@jupyter-widgets/base",
            "_model_module_version": "1.2.0",
            "_model_name": "LayoutModel",
            "_view_count": null,
            "_view_module": "@jupyter-widgets/base",
            "_view_module_version": "1.2.0",
            "_view_name": "LayoutView",
            "align_content": null,
            "align_items": null,
            "align_self": null,
            "border": null,
            "bottom": null,
            "display": null,
            "flex": null,
            "flex_flow": null,
            "grid_area": null,
            "grid_auto_columns": null,
            "grid_auto_flow": null,
            "grid_auto_rows": null,
            "grid_column": null,
            "grid_gap": null,
            "grid_row": null,
            "grid_template_areas": null,
            "grid_template_columns": null,
            "grid_template_rows": null,
            "height": null,
            "justify_content": null,
            "justify_items": null,
            "left": null,
            "margin": null,
            "max_height": null,
            "max_width": null,
            "min_height": null,
            "min_width": null,
            "object_fit": null,
            "object_position": null,
            "order": null,
            "overflow": null,
            "overflow_x": null,
            "overflow_y": null,
            "padding": null,
            "right": null,
            "top": null,
            "visibility": null,
            "width": null
          }
        },
        "0c21efc172154875a3112f2beeadfe66": {
          "model_module": "@jupyter-widgets/base",
          "model_name": "LayoutModel",
          "model_module_version": "1.2.0",
          "state": {
            "_model_module": "@jupyter-widgets/base",
            "_model_module_version": "1.2.0",
            "_model_name": "LayoutModel",
            "_view_count": null,
            "_view_module": "@jupyter-widgets/base",
            "_view_module_version": "1.2.0",
            "_view_name": "LayoutView",
            "align_content": null,
            "align_items": null,
            "align_self": null,
            "border": null,
            "bottom": null,
            "display": null,
            "flex": null,
            "flex_flow": null,
            "grid_area": null,
            "grid_auto_columns": null,
            "grid_auto_flow": null,
            "grid_auto_rows": null,
            "grid_column": null,
            "grid_gap": null,
            "grid_row": null,
            "grid_template_areas": null,
            "grid_template_columns": null,
            "grid_template_rows": null,
            "height": null,
            "justify_content": null,
            "justify_items": null,
            "left": null,
            "margin": null,
            "max_height": null,
            "max_width": null,
            "min_height": null,
            "min_width": null,
            "object_fit": null,
            "object_position": null,
            "order": null,
            "overflow": null,
            "overflow_x": null,
            "overflow_y": null,
            "padding": null,
            "right": null,
            "top": null,
            "visibility": null,
            "width": null
          }
        },
        "fa751ed6e0a247539fbc72e9bcd69937": {
          "model_module": "@jupyter-widgets/controls",
          "model_name": "DescriptionStyleModel",
          "model_module_version": "1.5.0",
          "state": {
            "_model_module": "@jupyter-widgets/controls",
            "_model_module_version": "1.5.0",
            "_model_name": "DescriptionStyleModel",
            "_view_count": null,
            "_view_module": "@jupyter-widgets/base",
            "_view_module_version": "1.2.0",
            "_view_name": "StyleView",
            "description_width": ""
          }
        },
        "3a3c5d1195204c2689e401735f596501": {
          "model_module": "@jupyter-widgets/base",
          "model_name": "LayoutModel",
          "model_module_version": "1.2.0",
          "state": {
            "_model_module": "@jupyter-widgets/base",
            "_model_module_version": "1.2.0",
            "_model_name": "LayoutModel",
            "_view_count": null,
            "_view_module": "@jupyter-widgets/base",
            "_view_module_version": "1.2.0",
            "_view_name": "LayoutView",
            "align_content": null,
            "align_items": null,
            "align_self": null,
            "border": null,
            "bottom": null,
            "display": null,
            "flex": null,
            "flex_flow": null,
            "grid_area": null,
            "grid_auto_columns": null,
            "grid_auto_flow": null,
            "grid_auto_rows": null,
            "grid_column": null,
            "grid_gap": null,
            "grid_row": null,
            "grid_template_areas": null,
            "grid_template_columns": null,
            "grid_template_rows": null,
            "height": null,
            "justify_content": null,
            "justify_items": null,
            "left": null,
            "margin": null,
            "max_height": null,
            "max_width": null,
            "min_height": null,
            "min_width": null,
            "object_fit": null,
            "object_position": null,
            "order": null,
            "overflow": null,
            "overflow_x": null,
            "overflow_y": null,
            "padding": null,
            "right": null,
            "top": null,
            "visibility": null,
            "width": null
          }
        },
        "f7ebfd1ab356484f8b9bc5e59009050f": {
          "model_module": "@jupyter-widgets/controls",
          "model_name": "ProgressStyleModel",
          "model_module_version": "1.5.0",
          "state": {
            "_model_module": "@jupyter-widgets/controls",
            "_model_module_version": "1.5.0",
            "_model_name": "ProgressStyleModel",
            "_view_count": null,
            "_view_module": "@jupyter-widgets/base",
            "_view_module_version": "1.2.0",
            "_view_name": "StyleView",
            "bar_color": null,
            "description_width": ""
          }
        },
        "0df6f8dab9b443d48b1c8462cc544b27": {
          "model_module": "@jupyter-widgets/base",
          "model_name": "LayoutModel",
          "model_module_version": "1.2.0",
          "state": {
            "_model_module": "@jupyter-widgets/base",
            "_model_module_version": "1.2.0",
            "_model_name": "LayoutModel",
            "_view_count": null,
            "_view_module": "@jupyter-widgets/base",
            "_view_module_version": "1.2.0",
            "_view_name": "LayoutView",
            "align_content": null,
            "align_items": null,
            "align_self": null,
            "border": null,
            "bottom": null,
            "display": null,
            "flex": null,
            "flex_flow": null,
            "grid_area": null,
            "grid_auto_columns": null,
            "grid_auto_flow": null,
            "grid_auto_rows": null,
            "grid_column": null,
            "grid_gap": null,
            "grid_row": null,
            "grid_template_areas": null,
            "grid_template_columns": null,
            "grid_template_rows": null,
            "height": null,
            "justify_content": null,
            "justify_items": null,
            "left": null,
            "margin": null,
            "max_height": null,
            "max_width": null,
            "min_height": null,
            "min_width": null,
            "object_fit": null,
            "object_position": null,
            "order": null,
            "overflow": null,
            "overflow_x": null,
            "overflow_y": null,
            "padding": null,
            "right": null,
            "top": null,
            "visibility": null,
            "width": null
          }
        },
        "103d86ce8a124138be9d01885db1fa38": {
          "model_module": "@jupyter-widgets/controls",
          "model_name": "DescriptionStyleModel",
          "model_module_version": "1.5.0",
          "state": {
            "_model_module": "@jupyter-widgets/controls",
            "_model_module_version": "1.5.0",
            "_model_name": "DescriptionStyleModel",
            "_view_count": null,
            "_view_module": "@jupyter-widgets/base",
            "_view_module_version": "1.2.0",
            "_view_name": "StyleView",
            "description_width": ""
          }
        },
        "573d1c926ee247bb914c37668012673a": {
          "model_module": "@jupyter-widgets/controls",
          "model_name": "HBoxModel",
          "model_module_version": "1.5.0",
          "state": {
            "_dom_classes": [],
            "_model_module": "@jupyter-widgets/controls",
            "_model_module_version": "1.5.0",
            "_model_name": "HBoxModel",
            "_view_count": null,
            "_view_module": "@jupyter-widgets/controls",
            "_view_module_version": "1.5.0",
            "_view_name": "HBoxView",
            "box_style": "",
            "children": [
              "IPY_MODEL_f6c564385d4a42ad940fa43dae5e9d16",
              "IPY_MODEL_3539743486404e9fb96f690aa7450658",
              "IPY_MODEL_32d3bb69daf245b29132333e61f526ea"
            ],
            "layout": "IPY_MODEL_1d3abe6115bd4524b2c7e0283e435c57"
          }
        },
        "f6c564385d4a42ad940fa43dae5e9d16": {
          "model_module": "@jupyter-widgets/controls",
          "model_name": "HTMLModel",
          "model_module_version": "1.5.0",
          "state": {
            "_dom_classes": [],
            "_model_module": "@jupyter-widgets/controls",
            "_model_module_version": "1.5.0",
            "_model_name": "HTMLModel",
            "_view_count": null,
            "_view_module": "@jupyter-widgets/controls",
            "_view_module_version": "1.5.0",
            "_view_name": "HTMLView",
            "description": "",
            "description_tooltip": null,
            "layout": "IPY_MODEL_12347379ec8f4bf698eb13de30aa98b4",
            "placeholder": "​",
            "style": "IPY_MODEL_32451b3ad9674a27802985488fc2df72",
            "value": "pytorch_model.bin: 100%"
          }
        },
        "3539743486404e9fb96f690aa7450658": {
          "model_module": "@jupyter-widgets/controls",
          "model_name": "FloatProgressModel",
          "model_module_version": "1.5.0",
          "state": {
            "_dom_classes": [],
            "_model_module": "@jupyter-widgets/controls",
            "_model_module_version": "1.5.0",
            "_model_name": "FloatProgressModel",
            "_view_count": null,
            "_view_module": "@jupyter-widgets/controls",
            "_view_module_version": "1.5.0",
            "_view_name": "ProgressView",
            "bar_style": "success",
            "description": "",
            "description_tooltip": null,
            "layout": "IPY_MODEL_c2a8e0ced5164d699b316bda85be2402",
            "max": 418326249,
            "min": 0,
            "orientation": "horizontal",
            "style": "IPY_MODEL_d047faeeb5bb40f89badbcb89b10399f",
            "value": 418326249
          }
        },
        "32d3bb69daf245b29132333e61f526ea": {
          "model_module": "@jupyter-widgets/controls",
          "model_name": "HTMLModel",
          "model_module_version": "1.5.0",
          "state": {
            "_dom_classes": [],
            "_model_module": "@jupyter-widgets/controls",
            "_model_module_version": "1.5.0",
            "_model_name": "HTMLModel",
            "_view_count": null,
            "_view_module": "@jupyter-widgets/controls",
            "_view_module_version": "1.5.0",
            "_view_name": "HTMLView",
            "description": "",
            "description_tooltip": null,
            "layout": "IPY_MODEL_95c0287962784b4f81c632c5bb7df222",
            "placeholder": "​",
            "style": "IPY_MODEL_550fcb9e7ed342d0a10dee22ceacfe7c",
            "value": " 418M/418M [00:05&lt;00:00, 81.3MB/s]"
          }
        },
        "1d3abe6115bd4524b2c7e0283e435c57": {
          "model_module": "@jupyter-widgets/base",
          "model_name": "LayoutModel",
          "model_module_version": "1.2.0",
          "state": {
            "_model_module": "@jupyter-widgets/base",
            "_model_module_version": "1.2.0",
            "_model_name": "LayoutModel",
            "_view_count": null,
            "_view_module": "@jupyter-widgets/base",
            "_view_module_version": "1.2.0",
            "_view_name": "LayoutView",
            "align_content": null,
            "align_items": null,
            "align_self": null,
            "border": null,
            "bottom": null,
            "display": null,
            "flex": null,
            "flex_flow": null,
            "grid_area": null,
            "grid_auto_columns": null,
            "grid_auto_flow": null,
            "grid_auto_rows": null,
            "grid_column": null,
            "grid_gap": null,
            "grid_row": null,
            "grid_template_areas": null,
            "grid_template_columns": null,
            "grid_template_rows": null,
            "height": null,
            "justify_content": null,
            "justify_items": null,
            "left": null,
            "margin": null,
            "max_height": null,
            "max_width": null,
            "min_height": null,
            "min_width": null,
            "object_fit": null,
            "object_position": null,
            "order": null,
            "overflow": null,
            "overflow_x": null,
            "overflow_y": null,
            "padding": null,
            "right": null,
            "top": null,
            "visibility": null,
            "width": null
          }
        },
        "12347379ec8f4bf698eb13de30aa98b4": {
          "model_module": "@jupyter-widgets/base",
          "model_name": "LayoutModel",
          "model_module_version": "1.2.0",
          "state": {
            "_model_module": "@jupyter-widgets/base",
            "_model_module_version": "1.2.0",
            "_model_name": "LayoutModel",
            "_view_count": null,
            "_view_module": "@jupyter-widgets/base",
            "_view_module_version": "1.2.0",
            "_view_name": "LayoutView",
            "align_content": null,
            "align_items": null,
            "align_self": null,
            "border": null,
            "bottom": null,
            "display": null,
            "flex": null,
            "flex_flow": null,
            "grid_area": null,
            "grid_auto_columns": null,
            "grid_auto_flow": null,
            "grid_auto_rows": null,
            "grid_column": null,
            "grid_gap": null,
            "grid_row": null,
            "grid_template_areas": null,
            "grid_template_columns": null,
            "grid_template_rows": null,
            "height": null,
            "justify_content": null,
            "justify_items": null,
            "left": null,
            "margin": null,
            "max_height": null,
            "max_width": null,
            "min_height": null,
            "min_width": null,
            "object_fit": null,
            "object_position": null,
            "order": null,
            "overflow": null,
            "overflow_x": null,
            "overflow_y": null,
            "padding": null,
            "right": null,
            "top": null,
            "visibility": null,
            "width": null
          }
        },
        "32451b3ad9674a27802985488fc2df72": {
          "model_module": "@jupyter-widgets/controls",
          "model_name": "DescriptionStyleModel",
          "model_module_version": "1.5.0",
          "state": {
            "_model_module": "@jupyter-widgets/controls",
            "_model_module_version": "1.5.0",
            "_model_name": "DescriptionStyleModel",
            "_view_count": null,
            "_view_module": "@jupyter-widgets/base",
            "_view_module_version": "1.2.0",
            "_view_name": "StyleView",
            "description_width": ""
          }
        },
        "c2a8e0ced5164d699b316bda85be2402": {
          "model_module": "@jupyter-widgets/base",
          "model_name": "LayoutModel",
          "model_module_version": "1.2.0",
          "state": {
            "_model_module": "@jupyter-widgets/base",
            "_model_module_version": "1.2.0",
            "_model_name": "LayoutModel",
            "_view_count": null,
            "_view_module": "@jupyter-widgets/base",
            "_view_module_version": "1.2.0",
            "_view_name": "LayoutView",
            "align_content": null,
            "align_items": null,
            "align_self": null,
            "border": null,
            "bottom": null,
            "display": null,
            "flex": null,
            "flex_flow": null,
            "grid_area": null,
            "grid_auto_columns": null,
            "grid_auto_flow": null,
            "grid_auto_rows": null,
            "grid_column": null,
            "grid_gap": null,
            "grid_row": null,
            "grid_template_areas": null,
            "grid_template_columns": null,
            "grid_template_rows": null,
            "height": null,
            "justify_content": null,
            "justify_items": null,
            "left": null,
            "margin": null,
            "max_height": null,
            "max_width": null,
            "min_height": null,
            "min_width": null,
            "object_fit": null,
            "object_position": null,
            "order": null,
            "overflow": null,
            "overflow_x": null,
            "overflow_y": null,
            "padding": null,
            "right": null,
            "top": null,
            "visibility": null,
            "width": null
          }
        },
        "d047faeeb5bb40f89badbcb89b10399f": {
          "model_module": "@jupyter-widgets/controls",
          "model_name": "ProgressStyleModel",
          "model_module_version": "1.5.0",
          "state": {
            "_model_module": "@jupyter-widgets/controls",
            "_model_module_version": "1.5.0",
            "_model_name": "ProgressStyleModel",
            "_view_count": null,
            "_view_module": "@jupyter-widgets/base",
            "_view_module_version": "1.2.0",
            "_view_name": "StyleView",
            "bar_color": null,
            "description_width": ""
          }
        },
        "95c0287962784b4f81c632c5bb7df222": {
          "model_module": "@jupyter-widgets/base",
          "model_name": "LayoutModel",
          "model_module_version": "1.2.0",
          "state": {
            "_model_module": "@jupyter-widgets/base",
            "_model_module_version": "1.2.0",
            "_model_name": "LayoutModel",
            "_view_count": null,
            "_view_module": "@jupyter-widgets/base",
            "_view_module_version": "1.2.0",
            "_view_name": "LayoutView",
            "align_content": null,
            "align_items": null,
            "align_self": null,
            "border": null,
            "bottom": null,
            "display": null,
            "flex": null,
            "flex_flow": null,
            "grid_area": null,
            "grid_auto_columns": null,
            "grid_auto_flow": null,
            "grid_auto_rows": null,
            "grid_column": null,
            "grid_gap": null,
            "grid_row": null,
            "grid_template_areas": null,
            "grid_template_columns": null,
            "grid_template_rows": null,
            "height": null,
            "justify_content": null,
            "justify_items": null,
            "left": null,
            "margin": null,
            "max_height": null,
            "max_width": null,
            "min_height": null,
            "min_width": null,
            "object_fit": null,
            "object_position": null,
            "order": null,
            "overflow": null,
            "overflow_x": null,
            "overflow_y": null,
            "padding": null,
            "right": null,
            "top": null,
            "visibility": null,
            "width": null
          }
        },
        "550fcb9e7ed342d0a10dee22ceacfe7c": {
          "model_module": "@jupyter-widgets/controls",
          "model_name": "DescriptionStyleModel",
          "model_module_version": "1.5.0",
          "state": {
            "_model_module": "@jupyter-widgets/controls",
            "_model_module_version": "1.5.0",
            "_model_name": "DescriptionStyleModel",
            "_view_count": null,
            "_view_module": "@jupyter-widgets/base",
            "_view_module_version": "1.2.0",
            "_view_name": "StyleView",
            "description_width": ""
          }
        }
      }
    }
  },
  "cells": [
    {
      "cell_type": "markdown",
      "metadata": {
        "id": "view-in-github",
        "colab_type": "text"
      },
      "source": [
        "<a href=\"https://colab.research.google.com/github/mengmeng-bot/CS230-Project-Fine-Tuning-BERT-on-Fine-Foods/blob/main/train_with_new_dataset_2nd.ipynb\" target=\"_parent\"><img src=\"https://colab.research.google.com/assets/colab-badge.svg\" alt=\"Open In Colab\"/></a>"
      ]
    },
    {
      "cell_type": "code",
      "source": [
        "from google.colab import drive\n",
        "drive.mount('/content/drive')\n",
        "path = 'drive/My Drive/Colab Notebooks/'\n",
        "data_path = path+'omen_dataset_updated_2char.csv'"
      ],
      "metadata": {
        "colab": {
          "base_uri": "https://localhost:8080/"
        },
        "id": "jjtzL0TTx1_N",
        "outputId": "56c22718-b562-43e2-cc8f-6dc0ad02d028"
      },
      "execution_count": null,
      "outputs": [
        {
          "output_type": "stream",
          "name": "stdout",
          "text": [
            "Mounted at /content/drive\n"
          ]
        }
      ]
    },
    {
      "cell_type": "code",
      "execution_count": null,
      "metadata": {
        "id": "RtfnblAKkMHA",
        "colab": {
          "base_uri": "https://localhost:8080/"
        },
        "outputId": "df032da7-87c7-4df5-971b-edcc0a0b9706"
      },
      "outputs": [
        {
          "output_type": "stream",
          "name": "stdout",
          "text": [
            "Entries per narrative_function label:\n",
            "narrative_function\n",
            "causal connection     307\n",
            "theory                277\n",
            "record                192\n",
            "political response     68\n",
            "legitimacy sign        25\n",
            "Name: count, dtype: int64\n",
            "\n",
            "\n"
          ]
        }
      ],
      "source": [
        "import pandas as pd\n",
        "import matplotlib.pyplot as plt\n",
        "\n",
        "df = pd.read_csv(data_path)\n",
        "\n",
        "# 2. Count how many entries each label (category) has for narrative_function\n",
        "print(\"Entries per narrative_function label:\")\n",
        "print(df[\"narrative_function\"].value_counts())\n",
        "\n",
        "print(\"\\n\")\n"
      ]
    },
    {
      "cell_type": "code",
      "source": [
        "df.isnull().sum() # check if there's NaN\n"
      ],
      "metadata": {
        "id": "MkfN-mYUIXpV"
      },
      "execution_count": null,
      "outputs": []
    },
    {
      "cell_type": "code",
      "source": [
        "# pie chart of entire dataset\n",
        "label_counts = df[\"narrative_function\"].value_counts()\n",
        "\n",
        "# Create a pie chart\n",
        "plt.figure(figsize=(6,6))\n",
        "label_counts.plot(\n",
        "    kind=\"pie\",\n",
        "    autopct=\"%1.1f%%\",  # show percentages\n",
        "    startangle=140      # rotate the start angle for aesthetics\n",
        ")\n",
        "\n",
        "plt.title(\"Distribution of Narrative Functions\")\n",
        "plt.ylabel(\"\")  # Hide the y-axis label for a cleaner look\n",
        "plt.show()"
      ],
      "metadata": {
        "id": "3_Aswb3oIgv4"
      },
      "execution_count": null,
      "outputs": []
    },
    {
      "cell_type": "code",
      "source": [
        "# oversampling"
      ],
      "metadata": {
        "id": "hWKqB0YyIk5O"
      },
      "execution_count": null,
      "outputs": []
    },
    {
      "cell_type": "code",
      "source": [
        "# pie chart after oversampling"
      ],
      "metadata": {
        "id": "MT2SB__eIouS"
      },
      "execution_count": null,
      "outputs": []
    },
    {
      "cell_type": "code",
      "source": [
        "# split"
      ],
      "metadata": {
        "id": "fO68K55uIrDC"
      },
      "execution_count": null,
      "outputs": []
    },
    {
      "cell_type": "code",
      "source": [
        "import torch\n",
        "torch.cuda.is_available()  # Should be True\n"
      ],
      "metadata": {
        "colab": {
          "base_uri": "https://localhost:8080/"
        },
        "id": "q1iBf29ePxvZ",
        "outputId": "57a23b5a-0d47-4e48-bd72-ce27ad17de0a"
      },
      "execution_count": null,
      "outputs": [
        {
          "output_type": "execute_result",
          "data": {
            "text/plain": [
              "True"
            ]
          },
          "metadata": {},
          "execution_count": 2
        }
      ]
    },
    {
      "cell_type": "code",
      "source": [
        "import numpy as np\n",
        "import pandas as pd\n",
        "from transformers import AutoTokenizer, AutoModelForSequenceClassification, Trainer, TrainingArguments"
      ],
      "metadata": {
        "id": "dSi6x9pDM2A3"
      },
      "execution_count": null,
      "outputs": []
    },
    {
      "cell_type": "code",
      "source": [
        "########################\n",
        "# 1. load datasets\n",
        "########################\n",
        "train_path = \"/content/drive/MyDrive/Colab Notebooks/omen_data_split/train.csv\"\n",
        "dev_path = \"/content/drive/MyDrive/Colab Notebooks/omen_data_split/val.csv\"\n",
        "test_path = \"/content/drive/MyDrive/Colab Notebooks/omen_data_split/test.csv\"\n",
        "test_df = pd.read_csv(test_path)\n",
        "train_df = pd.read_csv(train_path)\n",
        "dev_df = pd.read_csv(dev_path)"
      ],
      "metadata": {
        "id": "sbaQDg_4MUYS"
      },
      "execution_count": null,
      "outputs": []
    },
    {
      "cell_type": "code",
      "source": [
        "!nvidia-smi"
      ],
      "metadata": {
        "colab": {
          "base_uri": "https://localhost:8080/"
        },
        "id": "ny_HYMzNQIv3",
        "outputId": "760bf6b5-30e3-4e32-e7e2-117e65712b3a"
      },
      "execution_count": null,
      "outputs": [
        {
          "output_type": "stream",
          "name": "stdout",
          "text": [
            "Fri Feb 28 20:30:26 2025       \n",
            "+-----------------------------------------------------------------------------------------+\n",
            "| NVIDIA-SMI 550.54.15              Driver Version: 550.54.15      CUDA Version: 12.4     |\n",
            "|-----------------------------------------+------------------------+----------------------+\n",
            "| GPU  Name                 Persistence-M | Bus-Id          Disp.A | Volatile Uncorr. ECC |\n",
            "| Fan  Temp   Perf          Pwr:Usage/Cap |           Memory-Usage | GPU-Util  Compute M. |\n",
            "|                                         |                        |               MIG M. |\n",
            "|=========================================+========================+======================|\n",
            "|   0  Tesla T4                       Off |   00000000:00:04.0 Off |                    0 |\n",
            "| N/A   42C    P8              7W /   70W |       2MiB /  15360MiB |      0%      Default |\n",
            "|                                         |                        |                  N/A |\n",
            "+-----------------------------------------+------------------------+----------------------+\n",
            "                                                                                         \n",
            "+-----------------------------------------------------------------------------------------+\n",
            "| Processes:                                                                              |\n",
            "|  GPU   GI   CI        PID   Type   Process name                              GPU Memory |\n",
            "|        ID   ID                                                               Usage      |\n",
            "|=========================================================================================|\n",
            "|  No running processes found                                                             |\n",
            "+-----------------------------------------------------------------------------------------+\n"
          ]
        }
      ]
    },
    {
      "cell_type": "code",
      "source": [
        "###################\n",
        "# 2. label mapping\n",
        "##################\n",
        "# Collect all unique labels across train/val/test, just in case\n",
        "all_labels = set(train_df[\"narrative_function\"].unique()) \\\n",
        "    .union(dev_df[\"narrative_function\"].unique()) \\\n",
        "    .union(test_df[\"narrative_function\"].unique())\n",
        "\n",
        "label_list = sorted(list(all_labels))  # Sorting ensures consistent order\n",
        "label_map = {label: i for i, label in enumerate(label_list)}\n",
        "print(label_list)\n",
        "print(label_map)\n"
      ],
      "metadata": {
        "colab": {
          "base_uri": "https://localhost:8080/"
        },
        "id": "ANhfhSb1Nuq-",
        "outputId": "7c3fd3be-cd8f-45f6-b445-3e47a3b7c47f"
      },
      "execution_count": null,
      "outputs": [
        {
          "output_type": "stream",
          "name": "stdout",
          "text": [
            "['causal connection', 'legitimacy sign', 'political response', 'record', 'theory']\n",
            "{'causal connection': 0, 'legitimacy sign': 1, 'political response': 2, 'record': 3, 'theory': 4}\n"
          ]
        }
      ]
    },
    {
      "cell_type": "code",
      "source": [
        "####################################\n",
        "# 3. PREPARE DATASET CLASS FOR HF\n",
        "####################################\n",
        "class OmenDataset(torch.utils.data.Dataset):\n",
        "    def __init__(self, df, tokenizer, label_map, max_len=256):\n",
        "        self.texts = df[\"omen\"].tolist()\n",
        "        self.labels = [label_map[label] for label in df[\"narrative_function\"]]\n",
        "        self.tokenizer = tokenizer\n",
        "        self.max_len = max_len\n",
        "\n",
        "    def __len__(self):\n",
        "        return len(self.texts)\n",
        "\n",
        "    def __getitem__(self, idx):\n",
        "        text = self.texts[idx]\n",
        "        label = self.labels[idx]\n",
        "        encoding = self.tokenizer(\n",
        "            text,\n",
        "            padding='max_length',\n",
        "            truncation=True,\n",
        "            max_length=self.max_len,\n",
        "            return_tensors='pt'\n",
        "        )\n",
        "        return {\n",
        "            'input_ids': encoding['input_ids'].squeeze(),\n",
        "            'attention_mask': encoding['attention_mask'].squeeze(),\n",
        "            'labels': torch.tensor(label, dtype=torch.long)\n",
        "        }\n"
      ],
      "metadata": {
        "id": "NkJcrXLWN80B"
      },
      "execution_count": null,
      "outputs": []
    },
    {
      "cell_type": "code",
      "source": [
        "################################\n",
        "# 4. INIT MODEL AND TOKENIZER\n",
        "################################\n",
        "model_name = \"ethanyt/guwenbert-base\"  # or any GuwenBERT model on HF\n",
        "tokenizer = AutoTokenizer.from_pretrained(model_name)\n",
        "\n",
        "num_labels = len(label_map)\n",
        "model = AutoModelForSequenceClassification.from_pretrained(model_name, num_labels=num_labels)"
      ],
      "metadata": {
        "colab": {
          "base_uri": "https://localhost:8080/",
          "height": 276,
          "referenced_widgets": [
            "8567c8b6ca8e4d878591ce227929e2a3",
            "53b4651ba7b948baae46dc56e75ffdba",
            "a0cde72f09ea4ab3bdaf98c40ef41ff7",
            "99015a00a1384d898c202221233029aa",
            "82ee99507f0745438ebff2b5d86ff86e",
            "faf9ee32d8d84952ab1d074beb0faf3b",
            "1841f1a0325a4f409a5059d362c07217",
            "ff3626347c83463daa4c0fc1bde67b28",
            "1696dc7cd94845c192a28b86daadfe2a",
            "d572a9cf76034aaa993c128aa6b004a7",
            "56312abce65c426fa2e6281945fa5ed0",
            "0fe5a67dc2264262a5b3a296cfaa80f7",
            "079ed49c54e24550b259c666152d40b3",
            "eba6c770daca43f491226c5660dacae9",
            "0534f41b2e7c4b7db4cb6a8bf792e282",
            "9dcd848b6ff44e0eb206960459887afa",
            "0c21efc172154875a3112f2beeadfe66",
            "fa751ed6e0a247539fbc72e9bcd69937",
            "3a3c5d1195204c2689e401735f596501",
            "f7ebfd1ab356484f8b9bc5e59009050f",
            "0df6f8dab9b443d48b1c8462cc544b27",
            "103d86ce8a124138be9d01885db1fa38",
            "573d1c926ee247bb914c37668012673a",
            "f6c564385d4a42ad940fa43dae5e9d16",
            "3539743486404e9fb96f690aa7450658",
            "32d3bb69daf245b29132333e61f526ea",
            "1d3abe6115bd4524b2c7e0283e435c57",
            "12347379ec8f4bf698eb13de30aa98b4",
            "32451b3ad9674a27802985488fc2df72",
            "c2a8e0ced5164d699b316bda85be2402",
            "d047faeeb5bb40f89badbcb89b10399f",
            "95c0287962784b4f81c632c5bb7df222",
            "550fcb9e7ed342d0a10dee22ceacfe7c"
          ]
        },
        "id": "2Y0nYSZ0Oipe",
        "outputId": "cef1c4b1-8c9d-44df-8bed-25d871ff433f"
      },
      "execution_count": null,
      "outputs": [
        {
          "output_type": "stream",
          "name": "stderr",
          "text": [
            "/usr/local/lib/python3.11/dist-packages/huggingface_hub/utils/_auth.py:94: UserWarning: \n",
            "The secret `HF_TOKEN` does not exist in your Colab secrets.\n",
            "To authenticate with the Hugging Face Hub, create a token in your settings tab (https://huggingface.co/settings/tokens), set it as secret in your Google Colab and restart your session.\n",
            "You will be able to reuse this secret in all of your notebooks.\n",
            "Please note that authentication is recommended but still optional to access public models or datasets.\n",
            "  warnings.warn(\n"
          ]
        },
        {
          "output_type": "display_data",
          "data": {
            "text/plain": [
              "config.json:   0%|          | 0.00/519 [00:00<?, ?B/s]"
            ],
            "application/vnd.jupyter.widget-view+json": {
              "version_major": 2,
              "version_minor": 0,
              "model_id": "8567c8b6ca8e4d878591ce227929e2a3"
            }
          },
          "metadata": {}
        },
        {
          "output_type": "display_data",
          "data": {
            "text/plain": [
              "vocab.txt:   0%|          | 0.00/93.5k [00:00<?, ?B/s]"
            ],
            "application/vnd.jupyter.widget-view+json": {
              "version_major": 2,
              "version_minor": 0,
              "model_id": "0fe5a67dc2264262a5b3a296cfaa80f7"
            }
          },
          "metadata": {}
        },
        {
          "output_type": "display_data",
          "data": {
            "text/plain": [
              "pytorch_model.bin:   0%|          | 0.00/418M [00:00<?, ?B/s]"
            ],
            "application/vnd.jupyter.widget-view+json": {
              "version_major": 2,
              "version_minor": 0,
              "model_id": "573d1c926ee247bb914c37668012673a"
            }
          },
          "metadata": {}
        },
        {
          "output_type": "stream",
          "name": "stderr",
          "text": [
            "Some weights of RobertaForSequenceClassification were not initialized from the model checkpoint at ethanyt/guwenbert-base and are newly initialized: ['classifier.dense.bias', 'classifier.dense.weight', 'classifier.out_proj.bias', 'classifier.out_proj.weight']\n",
            "You should probably TRAIN this model on a down-stream task to be able to use it for predictions and inference.\n"
          ]
        }
      ]
    },
    {
      "cell_type": "code",
      "source": [
        "print(label_map)"
      ],
      "metadata": {
        "colab": {
          "base_uri": "https://localhost:8080/"
        },
        "id": "itUS-xn-aT7p",
        "outputId": "8e6bb662-86c7-4903-a3fc-e2e7d97ab6d1"
      },
      "execution_count": null,
      "outputs": [
        {
          "output_type": "stream",
          "name": "stdout",
          "text": [
            "{'causal connection': 0, 'legitimacy sign': 1, 'political response': 2, 'record': 3, 'theory': 4}\n"
          ]
        }
      ]
    },
    {
      "cell_type": "code",
      "source": [
        "################################\n",
        "# 5. BUILD DATASET OBJECTS\n",
        "################################\n",
        "train_dataset = OmenDataset(train_df, tokenizer, label_map)\n",
        "dev_dataset   = OmenDataset(dev_df, tokenizer, label_map)\n",
        "test_dataset  = OmenDataset(test_df, tokenizer, label_map)\n"
      ],
      "metadata": {
        "id": "bNMtK8kDPG1W"
      },
      "execution_count": null,
      "outputs": []
    },
    {
      "cell_type": "code",
      "source": [
        "def compute_metrics(eval_pred):\n",
        "    logits, labels = eval_pred\n",
        "    predictions = np.argmax(logits, axis=-1)\n",
        "    acc = accuracy_score(labels, predictions)\n",
        "    f1 = f1_score(labels, predictions, average='macro')\n",
        "    precision = precision_score(labels, predictions, average='macro')\n",
        "    recall = recall_score(labels, predictions, average='macro')\n",
        "    return {\n",
        "        'accuracy': acc,\n",
        "        'f1': f1,\n",
        "        'precision': precision,\n",
        "        'recall': recall\n",
        "    }"
      ],
      "metadata": {
        "id": "Hmp70hJ5RExH"
      },
      "execution_count": null,
      "outputs": []
    },
    {
      "cell_type": "code",
      "source": [
        "######################################\n",
        "# 6. TRAINING CONFIGURATION\n",
        "######################################\n",
        "training_args = TrainingArguments(\n",
        "    output_dir='./results',\n",
        "    num_train_epochs=1,\n",
        "    per_device_train_batch_size=8,\n",
        "    per_device_eval_batch_size=8,\n",
        "    evaluation_strategy='epoch',\n",
        "    logging_dir='./logs',\n",
        "    logging_steps=50,\n",
        "    save_steps=500,\n",
        "    learning_rate=2e-5\n",
        ")\n",
        "\n",
        "trainer = Trainer(\n",
        "    model=model,\n",
        "    args=training_args,\n",
        "    train_dataset=train_dataset,\n",
        "    eval_dataset=dev_dataset\n",
        ")\n"
      ],
      "metadata": {
        "colab": {
          "base_uri": "https://localhost:8080/"
        },
        "id": "zj0eQEvzPPun",
        "outputId": "96efad6f-6dcb-48b8-f2c8-e70c691f6679"
      },
      "execution_count": null,
      "outputs": [
        {
          "output_type": "stream",
          "name": "stderr",
          "text": [
            "/usr/local/lib/python3.11/dist-packages/transformers/training_args.py:1575: FutureWarning: `evaluation_strategy` is deprecated and will be removed in version 4.46 of 🤗 Transformers. Use `eval_strategy` instead\n",
            "  warnings.warn(\n"
          ]
        }
      ]
    },
    {
      "cell_type": "code",
      "source": [
        "#####################\n",
        "# 7. TRAIN THE MODEL\n",
        "#####################\n",
        "trainer.train()\n",
        "\n",
        "\n"
      ],
      "metadata": {
        "colab": {
          "base_uri": "https://localhost:8080/",
          "height": 446
        },
        "id": "hzub-1DhPaA2",
        "outputId": "0f45dc5c-2901-4d34-88d3-892ce01f7127"
      },
      "execution_count": null,
      "outputs": [
        {
          "output_type": "stream",
          "name": "stderr",
          "text": [
            "\u001b[34m\u001b[1mwandb\u001b[0m: \u001b[33mWARNING\u001b[0m The `run_name` is currently set to the same value as `TrainingArguments.output_dir`. If this was not intended, please specify a different run name by setting the `TrainingArguments.run_name` parameter.\n",
            "\u001b[34m\u001b[1mwandb\u001b[0m: Using wandb-core as the SDK backend.  Please refer to https://wandb.me/wandb-core for more information.\n"
          ]
        },
        {
          "output_type": "display_data",
          "data": {
            "text/plain": [
              "<IPython.core.display.Javascript object>"
            ],
            "application/javascript": [
              "\n",
              "        window._wandbApiKey = new Promise((resolve, reject) => {\n",
              "            function loadScript(url) {\n",
              "            return new Promise(function(resolve, reject) {\n",
              "                let newScript = document.createElement(\"script\");\n",
              "                newScript.onerror = reject;\n",
              "                newScript.onload = resolve;\n",
              "                document.body.appendChild(newScript);\n",
              "                newScript.src = url;\n",
              "            });\n",
              "            }\n",
              "            loadScript(\"https://cdn.jsdelivr.net/npm/postmate/build/postmate.min.js\").then(() => {\n",
              "            const iframe = document.createElement('iframe')\n",
              "            iframe.style.cssText = \"width:0;height:0;border:none\"\n",
              "            document.body.appendChild(iframe)\n",
              "            const handshake = new Postmate({\n",
              "                container: iframe,\n",
              "                url: 'https://wandb.ai/authorize'\n",
              "            });\n",
              "            const timeout = setTimeout(() => reject(\"Couldn't auto authenticate\"), 5000)\n",
              "            handshake.then(function(child) {\n",
              "                child.on('authorize', data => {\n",
              "                    clearTimeout(timeout)\n",
              "                    resolve(data)\n",
              "                });\n",
              "            });\n",
              "            })\n",
              "        });\n",
              "    "
            ]
          },
          "metadata": {}
        },
        {
          "output_type": "stream",
          "name": "stderr",
          "text": [
            "\u001b[34m\u001b[1mwandb\u001b[0m: Logging into wandb.ai. (Learn how to deploy a W&B server locally: https://wandb.me/wandb-server)\n",
            "\u001b[34m\u001b[1mwandb\u001b[0m: You can find your API key in your browser here: https://wandb.ai/authorize\n",
            "wandb: Paste an API key from your profile and hit enter:"
          ]
        },
        {
          "name": "stdout",
          "output_type": "stream",
          "text": [
            " ··········\n"
          ]
        },
        {
          "output_type": "stream",
          "name": "stderr",
          "text": [
            "\u001b[34m\u001b[1mwandb\u001b[0m: \u001b[33mWARNING\u001b[0m If you're specifying your api key in code, ensure this code is not shared publicly.\n",
            "\u001b[34m\u001b[1mwandb\u001b[0m: \u001b[33mWARNING\u001b[0m Consider setting the WANDB_API_KEY environment variable, or running `wandb login` from the command line.\n",
            "\u001b[34m\u001b[1mwandb\u001b[0m: No netrc file found, creating one.\n",
            "\u001b[34m\u001b[1mwandb\u001b[0m: Appending key for api.wandb.ai to your netrc file: /root/.netrc\n",
            "\u001b[34m\u001b[1mwandb\u001b[0m: Currently logged in as: \u001b[33mmmj710\u001b[0m (\u001b[33mmmj710-stanford-university\u001b[0m) to \u001b[32mhttps://api.wandb.ai\u001b[0m. Use \u001b[1m`wandb login --relogin`\u001b[0m to force relogin\n"
          ]
        },
        {
          "output_type": "display_data",
          "data": {
            "text/plain": [
              "<IPython.core.display.HTML object>"
            ],
            "text/html": [
              "Tracking run with wandb version 0.19.7"
            ]
          },
          "metadata": {}
        },
        {
          "output_type": "display_data",
          "data": {
            "text/plain": [
              "<IPython.core.display.HTML object>"
            ],
            "text/html": [
              "Run data is saved locally in <code>/content/wandb/run-20250228_203331-ji0jndrq</code>"
            ]
          },
          "metadata": {}
        },
        {
          "output_type": "display_data",
          "data": {
            "text/plain": [
              "<IPython.core.display.HTML object>"
            ],
            "text/html": [
              "Syncing run <strong><a href='https://wandb.ai/mmj710-stanford-university/huggingface/runs/ji0jndrq' target=\"_blank\">./results</a></strong> to <a href='https://wandb.ai/mmj710-stanford-university/huggingface' target=\"_blank\">Weights & Biases</a> (<a href='https://wandb.me/developer-guide' target=\"_blank\">docs</a>)<br>"
            ]
          },
          "metadata": {}
        },
        {
          "output_type": "display_data",
          "data": {
            "text/plain": [
              "<IPython.core.display.HTML object>"
            ],
            "text/html": [
              " View project at <a href='https://wandb.ai/mmj710-stanford-university/huggingface' target=\"_blank\">https://wandb.ai/mmj710-stanford-university/huggingface</a>"
            ]
          },
          "metadata": {}
        },
        {
          "output_type": "display_data",
          "data": {
            "text/plain": [
              "<IPython.core.display.HTML object>"
            ],
            "text/html": [
              " View run at <a href='https://wandb.ai/mmj710-stanford-university/huggingface/runs/ji0jndrq' target=\"_blank\">https://wandb.ai/mmj710-stanford-university/huggingface/runs/ji0jndrq</a>"
            ]
          },
          "metadata": {}
        },
        {
          "output_type": "display_data",
          "data": {
            "text/plain": [
              "<IPython.core.display.HTML object>"
            ],
            "text/html": [
              "\n",
              "    <div>\n",
              "      \n",
              "      <progress value='76' max='76' style='width:300px; height:20px; vertical-align: middle;'></progress>\n",
              "      [76/76 00:34, Epoch 1/1]\n",
              "    </div>\n",
              "    <table border=\"1\" class=\"dataframe\">\n",
              "  <thead>\n",
              " <tr style=\"text-align: left;\">\n",
              "      <th>Epoch</th>\n",
              "      <th>Training Loss</th>\n",
              "      <th>Validation Loss</th>\n",
              "    </tr>\n",
              "  </thead>\n",
              "  <tbody>\n",
              "    <tr>\n",
              "      <td>1</td>\n",
              "      <td>1.333900</td>\n",
              "      <td>1.050161</td>\n",
              "    </tr>\n",
              "  </tbody>\n",
              "</table><p>"
            ]
          },
          "metadata": {}
        },
        {
          "output_type": "execute_result",
          "data": {
            "text/plain": [
              "TrainOutput(global_step=76, training_loss=1.2562613738210577, metrics={'train_runtime': 116.4752, 'train_samples_per_second': 5.22, 'train_steps_per_second': 0.652, 'total_flos': 79987915309056.0, 'train_loss': 1.2562613738210577, 'epoch': 1.0})"
            ]
          },
          "metadata": {},
          "execution_count": 13
        }
      ]
    },
    {
      "cell_type": "code",
      "source": [
        "########################\n",
        "# 8. EVALUATE ON TEST\n",
        "########################\n",
        "metrics = trainer.evaluate(test_dataset)\n",
        "print(metrics)"
      ],
      "metadata": {
        "colab": {
          "base_uri": "https://localhost:8080/",
          "height": 55
        },
        "id": "I-2rQu7wQjSe",
        "outputId": "c8424f3d-75ee-44f9-8810-0826f6089bde"
      },
      "execution_count": null,
      "outputs": [
        {
          "output_type": "display_data",
          "data": {
            "text/plain": [
              "<IPython.core.display.HTML object>"
            ],
            "text/html": [
              "\n",
              "    <div>\n",
              "      \n",
              "      <progress value='17' max='17' style='width:300px; height:20px; vertical-align: middle;'></progress>\n",
              "      [17/17 00:01]\n",
              "    </div>\n",
              "    "
            ]
          },
          "metadata": {}
        },
        {
          "output_type": "stream",
          "name": "stdout",
          "text": [
            "{'eval_loss': 1.0264030694961548, 'eval_runtime': 1.8773, 'eval_samples_per_second': 69.782, 'eval_steps_per_second': 9.056, 'epoch': 1.0}\n"
          ]
        }
      ]
    },
    {
      "cell_type": "code",
      "source": [
        "# 10. Get predictions on the test set\n",
        "predictions_output = trainer.predict(test_dataset)\n",
        "preds = np.argmax(predictions_output.predictions, axis=-1)\n",
        "true_labels = predictions_output.label_ids\n",
        "\n",
        "# Create an inverse mapping to convert label numbers back to label names\n",
        "inverse_label_map = {v: k for k, v in label_map.items()}\n",
        "\n",
        "# Create a DataFrame with the original texts, predicted labels, and true labels\n",
        "results_df = pd.DataFrame({\n",
        "    \"text\": test_df[\"omen\"],\n",
        "    \"predicted_label\": [inverse_label_map[p] for p in preds],\n",
        "    \"true_label\": [inverse_label_map[t] for t in true_labels]\n",
        "})\n",
        "\n",
        "results_df.to_csv(\"/content/drive/MyDrive/Colab Notebooks/results_baseline.csv\", index=False)\n",
        "# Show a few examples\n",
        "print(results_df.head(10))"
      ],
      "metadata": {
        "colab": {
          "base_uri": "https://localhost:8080/",
          "height": 1000
        },
        "id": "5_Dnvf7QSUuC",
        "outputId": "9af06959-1610-4d60-b2f5-784a74494f12"
      },
      "execution_count": null,
      "outputs": [
        {
          "output_type": "display_data",
          "data": {
            "text/plain": [
              "<IPython.core.display.HTML object>"
            ],
            "text/html": []
          },
          "metadata": {}
        },
        {
          "output_type": "stream",
          "name": "stdout",
          "text": [
            "PredictionOutput(predictions=array([[ 0.79878634, -1.2605277 , -0.660498  , -1.1121337 ,  1.7197359 ],\n",
            "       [ 1.2130312 , -1.3220057 , -0.60770386,  0.7019846 , -0.10404538],\n",
            "       [ 0.7925994 , -0.9545779 , -0.5194648 ,  1.2946185 , -0.3653816 ],\n",
            "       [ 0.99161273, -1.0446122 , -0.5029513 ,  0.90218204, -0.43869853],\n",
            "       [ 1.264645  , -1.4534854 , -0.5533193 , -0.80641556,  1.0592469 ],\n",
            "       [ 0.6394862 , -1.110797  , -0.46700203, -1.1510363 ,  1.856753  ],\n",
            "       [ 0.9312    , -1.0372833 , -0.6481869 ,  1.2371014 , -0.34817177],\n",
            "       [ 1.0497754 , -1.3826994 , -0.69342804, -0.9487007 ,  1.4914145 ],\n",
            "       [ 1.5153345 , -1.4664129 , -0.5823242 , -0.4176988 ,  0.5971466 ],\n",
            "       [ 0.8510954 , -1.2376963 , -0.5981979 , -1.1933153 ,  1.7554767 ],\n",
            "       [ 0.9152194 , -1.0887992 , -0.7450776 ,  0.95126814, -0.06960379],\n",
            "       [ 0.85349464, -0.89846903, -0.47750396,  0.8884932 , -0.23118193],\n",
            "       [ 1.3025264 , -1.4846898 , -0.66969544, -0.87241256,  1.212781  ],\n",
            "       [ 1.3694773 , -1.5273856 , -0.7945479 , -0.5478831 ,  0.9978526 ],\n",
            "       [ 0.78916955, -0.92472196, -0.5877512 ,  1.3250905 , -0.34661144],\n",
            "       [ 0.62751836, -0.6865468 , -0.25558317,  0.3140714 , -0.06199176],\n",
            "       [ 1.273687  , -1.2584013 , -0.49154022, -0.6949079 ,  0.77577686],\n",
            "       [ 1.0645932 , -1.2354118 , -0.5838405 ,  0.908729  , -0.3036762 ],\n",
            "       [ 1.5043077 , -1.531703  , -0.6561706 , -0.56768525,  0.7640293 ],\n",
            "       [ 0.5800643 , -0.67539346, -0.306021  ,  0.45922664, -0.10556258],\n",
            "       [ 1.0528587 , -1.0536844 , -0.5197711 ,  0.75211793, -0.31643707],\n",
            "       [ 0.78590524, -0.90662587, -0.5884538 ,  1.3940792 , -0.39973897],\n",
            "       [ 0.8048483 , -0.9981214 , -0.62223434,  1.4301512 , -0.49091944],\n",
            "       [ 0.78473914, -1.0881053 , -0.6980655 ,  1.347701  , -0.5605932 ],\n",
            "       [ 0.85933644, -1.2064145 , -0.5177393 , -1.1871481 ,  1.6816365 ],\n",
            "       [ 1.1313707 , -1.2673299 , -0.6725452 ,  0.98431545, -0.34408724],\n",
            "       [ 1.1132869 , -1.3062128 , -0.55070233, -1.1202041 ,  1.3104521 ],\n",
            "       [ 1.4832417 , -1.5513331 , -0.640346  , -0.43553337,  0.5762181 ],\n",
            "       [ 0.85532504, -1.2307074 , -0.5615651 , -1.2041749 ,  1.7943883 ],\n",
            "       [ 1.0948564 , -1.3827845 , -0.55672204, -1.0594504 ,  1.4886682 ],\n",
            "       [ 0.955556  , -1.1209677 , -0.58994573,  0.47488996,  0.18041211],\n",
            "       [ 0.8908327 , -1.0465438 , -0.54798144,  1.2705843 , -0.50392795],\n",
            "       [ 0.63557523, -1.0790527 , -0.470317  , -1.1644635 ,  1.8773379 ],\n",
            "       [ 0.8714831 , -1.2957613 , -0.64804155, -1.1663145 ,  1.7455827 ],\n",
            "       [ 0.86980873, -1.2550939 , -0.5818572 , -1.1397585 ,  1.7516755 ],\n",
            "       [ 1.4562162 , -1.5124773 , -0.59981936, -0.16403386,  0.38517734],\n",
            "       [ 0.8207253 , -0.9807859 , -0.53346956,  1.3269925 , -0.52575743],\n",
            "       [ 0.8892875 , -0.87570804, -0.47610533,  0.8580587 , -0.21679884],\n",
            "       [ 1.3828504 , -1.4414513 , -0.67818063, -0.7171229 ,  0.9283233 ],\n",
            "       [ 1.2630033 , -1.2617215 , -0.58598024,  0.19454691,  0.10299546],\n",
            "       [ 0.7785822 , -0.9515421 , -0.6306766 ,  1.3137381 , -0.42340374],\n",
            "       [ 0.8081119 , -1.0557835 , -0.6333345 ,  1.2843626 , -0.3963892 ],\n",
            "       [ 0.82882994, -0.99713045, -0.5684778 ,  1.2592669 , -0.42840955],\n",
            "       [ 0.9105639 , -1.0788999 , -0.63549674,  1.3854629 , -0.5543938 ],\n",
            "       [ 0.8366574 , -1.0488645 , -0.65465313,  1.2245215 , -0.32977733],\n",
            "       [ 1.0768546 , -1.2747525 , -0.6530475 ,  1.1533701 , -0.5236881 ],\n",
            "       [ 1.2957265 , -1.4506841 , -0.5799002 , -0.9930778 ,  1.2039428 ],\n",
            "       [ 1.2862031 , -1.3528618 , -0.61315066, -0.990294  ,  1.1408027 ],\n",
            "       [ 0.9017034 , -1.2759106 , -0.5393327 , -1.2046933 ,  1.6984237 ],\n",
            "       [ 0.8999328 , -1.2608695 , -0.56810826, -1.1621974 ,  1.7784892 ],\n",
            "       [ 0.9033624 , -1.0604109 , -0.54416984,  1.2033366 , -0.4303611 ],\n",
            "       [ 0.6538433 , -0.8008509 , -0.29414153,  0.5766426 , -0.15611613],\n",
            "       [ 0.77295697, -1.1719213 , -0.4985876 , -1.0203071 ,  1.7522634 ],\n",
            "       [ 1.1014115 , -1.198907  , -0.75876087,  0.97796375, -0.32097274],\n",
            "       [ 0.7555876 , -1.216681  , -0.53363836, -0.98588926,  1.8231725 ],\n",
            "       [ 1.1517601 , -1.4322568 , -0.71883005, -0.84963566,  1.4065417 ],\n",
            "       [ 0.99718916, -1.3145019 , -0.65638274, -1.0861132 ,  1.447058  ],\n",
            "       [ 1.029233  , -1.3480636 , -0.6620884 , -1.1191024 ,  1.5906374 ],\n",
            "       [ 1.0418518 , -1.4171909 , -0.5529505 , -1.1135    ,  1.5201067 ],\n",
            "       [ 0.85583663, -0.894978  , -0.5468399 ,  0.86572635, -0.2175324 ],\n",
            "       [ 0.9001197 , -0.91169244, -0.51406276,  0.17152843,  0.2090157 ],\n",
            "       [ 0.9565254 , -1.2701786 , -0.50955856, -1.2007623 ,  1.6228057 ],\n",
            "       [ 0.98761547, -1.2937583 , -0.5755467 , -1.1103678 ,  1.6805785 ],\n",
            "       [ 1.5180261 , -1.4589108 , -0.58172774, -0.6029393 ,  0.7333962 ],\n",
            "       [ 0.9091817 , -1.337345  , -0.59667957, -1.2268517 ,  1.7390677 ],\n",
            "       [ 0.85015464, -0.91516554, -0.5466269 ,  1.1176283 , -0.40446532],\n",
            "       [ 1.2940614 , -1.4331944 , -0.5152885 , -0.6373485 ,  0.86535984],\n",
            "       [ 0.94556737, -1.1370173 , -0.62082446,  1.2030133 , -0.3594051 ],\n",
            "       [ 0.87162596, -1.2385615 , -0.6119821 , -1.1479726 ,  1.7200267 ],\n",
            "       [ 0.82538503, -0.8786764 , -0.45821   ,  0.9301081 , -0.31166065],\n",
            "       [ 0.796173  , -0.962799  , -0.6107173 ,  1.3390695 , -0.49958387],\n",
            "       [ 0.85429305, -0.97810346, -0.6129503 ,  1.4054928 , -0.5716937 ],\n",
            "       [ 0.8462293 , -0.9237855 , -0.49590415,  1.0847486 , -0.3725199 ],\n",
            "       [ 1.3016772 , -1.400553  , -0.77133816, -0.6006095 ,  0.94355845],\n",
            "       [ 1.3064474 , -1.3808551 , -0.58503586,  0.21224822,  0.21718763],\n",
            "       [ 1.2712083 , -1.4462688 , -0.5866718 , -0.9281582 ,  1.1725632 ],\n",
            "       [ 0.9229799 , -1.0581429 , -0.49821144,  1.0803341 , -0.29020205],\n",
            "       [ 0.5866534 , -0.67354447, -0.28302738,  0.66023415, -0.18491782],\n",
            "       [ 1.0169007 , -1.3606457 , -0.65169066, -1.1289978 ,  1.6335222 ],\n",
            "       [ 1.108341  , -1.2466344 , -0.64049864,  1.08749   , -0.30222648],\n",
            "       [ 0.66323966, -0.73866206, -0.34168664,  0.49050054, -0.00279706],\n",
            "       [ 1.1544658 , -1.1912855 , -0.5570885 ,  0.2343759 ,  0.05084192],\n",
            "       [ 1.0458994 , -1.2313823 , -0.72980386,  1.0271878 , -0.42096922],\n",
            "       [ 1.0969338 , -1.3185679 , -0.739857  , -0.91426414,  1.3592613 ],\n",
            "       [ 0.94903487, -1.3337715 , -0.6390987 , -1.164574  ,  1.6897317 ],\n",
            "       [ 1.0062935 , -1.3584744 , -0.7011604 , -1.0388846 ,  1.6264321 ],\n",
            "       [ 0.7554829 , -1.2091008 , -0.5286891 , -1.2758468 ,  1.9351393 ],\n",
            "       [ 0.87148094, -1.3306621 , -0.67595434, -1.0438462 ,  1.7205415 ],\n",
            "       [ 0.9952549 , -1.2013814 , -0.6322874 ,  1.2863284 , -0.27169192],\n",
            "       [ 1.362544  , -1.448991  , -0.6493928 , -0.6877421 ,  0.8262047 ],\n",
            "       [ 1.326942  , -1.4647864 , -0.6375444 , -0.8656588 ,  1.0916992 ],\n",
            "       [ 1.3765728 , -1.257185  , -0.47774488,  0.02726138,  0.24643025],\n",
            "       [ 1.2067785 , -1.3236501 , -0.71494347,  0.92904437, -0.17163348],\n",
            "       [ 0.9158493 , -1.3177655 , -0.5952677 , -1.1355255 ,  1.7640892 ],\n",
            "       [ 1.1195303 , -1.2032896 , -0.48108605,  0.6531486 , -0.24092707],\n",
            "       [ 0.9498311 , -1.2766811 , -0.58748335, -1.1066258 ,  1.6357074 ],\n",
            "       [ 0.98353195, -1.1986147 , -0.51915276, -1.0422621 ,  1.3922216 ],\n",
            "       [ 1.027233  , -1.3474665 , -0.62194073, -1.0669469 ,  1.6723616 ],\n",
            "       [ 1.1302353 , -1.4599658 , -0.73487467, -0.8929763 ,  1.3905448 ],\n",
            "       [ 1.1296914 , -1.3704479 , -0.5777983 , -1.1073662 ,  1.4679272 ],\n",
            "       [ 0.71825725, -0.89630604, -0.5979498 ,  1.4807477 , -0.6481489 ],\n",
            "       [ 1.5048083 , -1.500863  , -0.59323525, -0.4685306 ,  0.49744904],\n",
            "       [ 0.6107729 , -0.93407094, -0.6044311 ,  1.3434403 , -0.32803237],\n",
            "       [ 0.8374344 , -1.1384993 , -0.5232136 , -1.130505  ,  1.5369369 ],\n",
            "       [ 0.9582701 , -1.0684447 , -0.50285125,  0.9247868 , -0.16343004],\n",
            "       [ 1.2815801 , -1.483304  , -0.67719936, -0.58818877,  1.1891993 ],\n",
            "       [ 0.6701705 , -1.1539198 , -0.5051879 , -1.1899791 ,  1.9464182 ],\n",
            "       [ 1.1413862 , -1.4124517 , -0.575067  , -0.919628  ,  1.2600061 ],\n",
            "       [ 0.8051509 , -1.2810861 , -0.5937059 , -1.1519965 ,  1.9097501 ],\n",
            "       [ 1.0095748 , -1.3142533 , -0.53977376, -0.8723894 ,  1.2592969 ],\n",
            "       [ 1.4169365 , -1.4328209 , -0.5849627 , -0.6619928 ,  0.83429873],\n",
            "       [ 0.7059947 , -0.9373139 , -0.6106101 ,  1.471481  , -0.56044585],\n",
            "       [ 1.6030034 , -1.5557855 , -0.5838767 , -0.03729813,  0.27006873],\n",
            "       [ 0.747157  , -0.72612965, -0.40398818,  0.58751124, -0.17493936],\n",
            "       [ 1.3024454 , -1.3325139 , -0.5087048 , -0.8984248 ,  1.0577542 ],\n",
            "       [ 1.371011  , -1.523907  , -0.64950806, -0.66334057,  1.0462748 ],\n",
            "       [ 0.6851616 , -1.2466606 , -0.5038944 , -1.19777   ,  1.9184141 ],\n",
            "       [ 0.8351257 , -1.0496023 , -0.7120333 ,  0.9516657 , -0.13294983],\n",
            "       [ 1.3316207 , -1.3805329 , -0.48915628, -0.74087983,  0.8408025 ],\n",
            "       [ 1.0792309 , -1.1931788 , -0.61827576,  1.2022234 , -0.43975037],\n",
            "       [ 0.8729224 , -0.9979819 , -0.62282324,  0.85900056, -0.03039912],\n",
            "       [ 1.4694347 , -1.5455483 , -0.6320627 , -0.12948723,  0.5363324 ],\n",
            "       [ 1.4049057 , -1.501541  , -0.6611898 , -0.6054384 ,  1.0503765 ],\n",
            "       [ 1.2476349 , -1.3526332 , -0.51223695, -0.8212122 ,  1.1091434 ],\n",
            "       [ 0.86541593, -1.0231334 , -0.61987936,  1.303109  , -0.48080587],\n",
            "       [ 1.4028    , -1.4376358 , -0.5429044 ,  0.37576607, -0.05237313],\n",
            "       [ 0.5566775 , -0.6701264 , -0.28086644,  0.5988665 , -0.21540399],\n",
            "       [ 1.3908463 , -1.4255223 , -0.59123844, -0.4652571 ,  0.7883563 ],\n",
            "       [ 0.9370352 , -1.0766045 , -0.67995137,  1.2175977 , -0.39533877],\n",
            "       [ 0.98149484, -1.3076323 , -0.51565623, -1.1842362 ,  1.6331177 ],\n",
            "       [ 0.6989997 , -1.20962   , -0.53206605, -1.1608105 ,  1.9049957 ]],\n",
            "      dtype=float32), label_ids=array([4, 0, 3, 3, 2, 4, 3, 4, 0, 4, 4, 0, 0, 4, 3, 3, 0, 0, 0, 3, 0, 3,\n",
            "       0, 0, 0, 0, 1, 0, 4, 4, 0, 3, 4, 4, 4, 0, 3, 0, 4, 0, 3, 3, 3, 0,\n",
            "       0, 0, 0, 2, 4, 4, 3, 3, 4, 0, 4, 4, 4, 4, 0, 0, 0, 2, 4, 0, 4, 3,\n",
            "       0, 3, 4, 3, 3, 3, 3, 4, 3, 1, 0, 3, 4, 0, 0, 0, 0, 4, 4, 4, 4, 4,\n",
            "       0, 0, 0, 0, 0, 4, 0, 2, 1, 4, 4, 0, 3, 0, 4, 2, 0, 4, 4, 2, 4, 2,\n",
            "       0, 3, 0, 2, 1, 4, 4, 4, 0, 3, 4, 2, 0, 2, 3, 3, 3, 0, 3, 4, 4]), metrics={'test_loss': 1.0264030694961548, 'test_runtime': 1.8019, 'test_samples_per_second': 72.702, 'test_steps_per_second': 9.435})\n"
          ]
        }
      ]
    },
    {
      "cell_type": "code",
      "source": [
        "from sklearn.metrics import accuracy_score, f1_score, recall_score, precision_score\n",
        "\n",
        "accuracy = accuracy_score(results_df['true_label'], results_df['predicted_label'])\n",
        "f1 = f1_score(results_df['true_label'], results_df['predicted_label'], average='macro')\n",
        "recall = recall_score(results_df['true_label'], results_df['predicted_label'], average='macro')\n",
        "precision = precision_score(results_df['true_label'], results_df['predicted_label'], average='macro')\n",
        "\n",
        "print(\"Accuracy:\", accuracy)\n",
        "print(\"F1 Score:\", f1)\n",
        "print(\"Recall:\", recall)\n",
        "print(\"Precision:\", precision)\n"
      ],
      "metadata": {
        "colab": {
          "base_uri": "https://localhost:8080/"
        },
        "id": "lCT-3N0_VG09",
        "outputId": "54cdf45f-6ad7-424b-91de-ebb1b7dce5ca"
      },
      "execution_count": null,
      "outputs": [
        {
          "output_type": "stream",
          "name": "stdout",
          "text": [
            "Accuracy: 0.6870229007633588\n",
            "F1 Score: 0.43641785502079616\n",
            "Recall: 0.4635896337545513\n",
            "Precision: 0.41321883031404755\n"
          ]
        },
        {
          "output_type": "stream",
          "name": "stderr",
          "text": [
            "/usr/local/lib/python3.11/dist-packages/sklearn/metrics/_classification.py:1565: UndefinedMetricWarning: Precision is ill-defined and being set to 0.0 in labels with no predicted samples. Use `zero_division` parameter to control this behavior.\n",
            "  _warn_prf(average, modifier, f\"{metric.capitalize()} is\", len(result))\n"
          ]
        }
      ]
    },
    {
      "cell_type": "code",
      "source": [
        "from sklearn.metrics import classification_report\n",
        "\n",
        "report = classification_report(true_labels, preds, target_names=label_list)\n",
        "print(report)\n"
      ],
      "metadata": {
        "colab": {
          "base_uri": "https://localhost:8080/"
        },
        "id": "FlBmEENeYNF1",
        "outputId": "ccc3ff1f-f062-4852-82bb-1c8f7c789cc0"
      },
      "execution_count": null,
      "outputs": [
        {
          "output_type": "stream",
          "name": "stdout",
          "text": [
            "                    precision    recall  f1-score   support\n",
            "\n",
            " causal connection       0.64      0.74      0.69        46\n",
            "   legitimacy sign       0.00      0.00      0.00         4\n",
            "political response       0.00      0.00      0.00        10\n",
            "            record       0.66      0.79      0.72        29\n",
            "            theory       0.77      0.79      0.78        42\n",
            "\n",
            "          accuracy                           0.69       131\n",
            "         macro avg       0.41      0.46      0.44       131\n",
            "      weighted avg       0.62      0.69      0.65       131\n",
            "\n"
          ]
        },
        {
          "output_type": "stream",
          "name": "stderr",
          "text": [
            "/usr/local/lib/python3.11/dist-packages/sklearn/metrics/_classification.py:1565: UndefinedMetricWarning: Precision is ill-defined and being set to 0.0 in labels with no predicted samples. Use `zero_division` parameter to control this behavior.\n",
            "  _warn_prf(average, modifier, f\"{metric.capitalize()} is\", len(result))\n",
            "/usr/local/lib/python3.11/dist-packages/sklearn/metrics/_classification.py:1565: UndefinedMetricWarning: Precision is ill-defined and being set to 0.0 in labels with no predicted samples. Use `zero_division` parameter to control this behavior.\n",
            "  _warn_prf(average, modifier, f\"{metric.capitalize()} is\", len(result))\n",
            "/usr/local/lib/python3.11/dist-packages/sklearn/metrics/_classification.py:1565: UndefinedMetricWarning: Precision is ill-defined and being set to 0.0 in labels with no predicted samples. Use `zero_division` parameter to control this behavior.\n",
            "  _warn_prf(average, modifier, f\"{metric.capitalize()} is\", len(result))\n"
          ]
        }
      ]
    },
    {
      "cell_type": "code",
      "source": [
        "from sklearn.metrics import accuracy_score, f1_score, recall_score, precision_score\n",
        "# Compute the macro F1 score\n",
        "f1 = f1_score(true_labels, preds, average='macro')\n",
        "accuracy = accuracy_score(labels, preds)\n",
        "print(\"Test F1 Score:\", f1)"
      ],
      "metadata": {
        "colab": {
          "base_uri": "https://localhost:8080/"
        },
        "id": "qRdb-QoWTSK5",
        "outputId": "82d859d5-f0f5-4a6a-8617-cc000e33cdf1"
      },
      "execution_count": null,
      "outputs": [
        {
          "output_type": "stream",
          "name": "stdout",
          "text": [
            "Test F1 Score: 0.43641785502079616\n"
          ]
        }
      ]
    },
    {
      "cell_type": "code",
      "source": [
        "label_counts = df[\"narrative_function\"].value_counts()\n",
        "\n",
        "# Create a pie chart\n",
        "plt.figure(figsize=(6,6))\n",
        "label_counts.plot(\n",
        "    kind=\"pie\",\n",
        "    autopct=\"%1.1f%%\",  # show percentages\n",
        "    startangle=140      # rotate the start angle for aesthetics\n",
        ")\n",
        "\n",
        "plt.title(\"Distribution of Narrative Functions\")\n",
        "plt.ylabel(\"\")  # Hide the y-axis label for a cleaner look\n",
        "plt.show()"
      ],
      "metadata": {
        "colab": {
          "base_uri": "https://localhost:8080/",
          "height": 521
        },
        "id": "SiI8Qd5J61B7",
        "outputId": "6a3f3b7e-3999-4117-dd23-e02713f2c03b"
      },
      "execution_count": null,
      "outputs": [
        {
          "output_type": "display_data",
          "data": {
            "text/plain": [
              "<Figure size 600x600 with 1 Axes>"
            ],
            "image/png": "[encoded data removed]"
          },
          "metadata": {}
        }
      ]
    },
    {
      "cell_type": "code",
      "source": [
        "df.isnull().sum() # check if there's NaN\n"
      ],
      "metadata": {
        "colab": {
          "base_uri": "https://localhost:8080/",
          "height": 178
        },
        "id": "QnmwEjvrzg37",
        "outputId": "39099908-647f-401f-8614-18c542ba2445"
      },
      "execution_count": null,
      "outputs": [
        {
          "output_type": "execute_result",
          "data": {
            "text/plain": [
              "filename              0\n",
              "omen                  0\n",
              "narrative_function    0\n",
              "dtype: int64"
            ],
            "text/html": [
              "<div>\n",
              "<style scoped>\n",
              "    .dataframe tbody tr th:only-of-type {\n",
              "        vertical-align: middle;\n",
              "    }\n",
              "\n",
              "    .dataframe tbody tr th {\n",
              "        vertical-align: top;\n",
              "    }\n",
              "\n",
              "    .dataframe thead th {\n",
              "        text-align: right;\n",
              "    }\n",
              "</style>\n",
              "<table border=\"1\" class=\"dataframe\">\n",
              "  <thead>\n",
              "    <tr style=\"text-align: right;\">\n",
              "      <th></th>\n",
              "      <th>0</th>\n",
              "    </tr>\n",
              "  </thead>\n",
              "  <tbody>\n",
              "    <tr>\n",
              "      <th>filename</th>\n",
              "      <td>0</td>\n",
              "    </tr>\n",
              "    <tr>\n",
              "      <th>omen</th>\n",
              "      <td>0</td>\n",
              "    </tr>\n",
              "    <tr>\n",
              "      <th>narrative_function</th>\n",
              "      <td>0</td>\n",
              "    </tr>\n",
              "  </tbody>\n",
              "</table>\n",
              "</div><br><label><b>dtype:</b> int64</label>"
            ]
          },
          "metadata": {},
          "execution_count": 17
        }
      ]
    },
    {
      "cell_type": "code",
      "source": [
        "# split into train, dev and test\n",
        "from sklearn.model_selection import train_test_split\n",
        "\n",
        "train_df, temp_df = train_test_split(\n",
        "    df,\n",
        "    test_size=0.3,\n",
        "    random_state=42,\n",
        "    stratify=df[\"narrative_function\"]\n",
        ")\n",
        "\n",
        "val_df, test_df = train_test_split(\n",
        "    temp_df,\n",
        "    test_size=0.5,\n",
        "    random_state=42,\n",
        "    stratify=temp_df[\"narrative_function\"]\n",
        ")\n"
      ],
      "metadata": {
        "id": "YTsXZGFMxCfD"
      },
      "execution_count": null,
      "outputs": []
    },
    {
      "cell_type": "code",
      "source": [
        "print(\"Train label counts:\")\n",
        "print(train_df[\"narrative_function\"].value_counts())\n",
        "print()\n",
        "\n",
        "print(\"Validation label counts:\")\n",
        "print(val_df[\"narrative_function\"].value_counts())\n",
        "print()\n",
        "\n",
        "print(\"Test label counts:\")\n",
        "print(test_df[\"narrative_function\"].value_counts())"
      ],
      "metadata": {
        "colab": {
          "base_uri": "https://localhost:8080/"
        },
        "id": "fA9zK-JS31PG",
        "outputId": "0fc5da5f-9b9a-4d76-b099-0a412cb5c93d"
      },
      "execution_count": null,
      "outputs": [
        {
          "output_type": "stream",
          "name": "stdout",
          "text": [
            "Train label counts:\n",
            "narrative_function\n",
            "causal connection     215\n",
            "theory                194\n",
            "record                134\n",
            "political response     48\n",
            "legitimacy sign        17\n",
            "Name: count, dtype: int64\n",
            "\n",
            "Validation label counts:\n",
            "narrative_function\n",
            "causal connection     46\n",
            "theory                41\n",
            "record                29\n",
            "political response    10\n",
            "legitimacy sign        4\n",
            "Name: count, dtype: int64\n",
            "\n",
            "Test label counts:\n",
            "narrative_function\n",
            "causal connection     46\n",
            "theory                42\n",
            "record                29\n",
            "political response    10\n",
            "legitimacy sign        4\n",
            "Name: count, dtype: int64\n"
          ]
        }
      ]
    },
    {
      "cell_type": "code",
      "source": [
        "train_df.to_csv(\"/content/drive/MyDrive/Colab Notebooks/omen_data_split/train.csv\", index=False)\n",
        "val_df.to_csv(\"/content/drive/MyDrive/Colab Notebooks/omen_data_split/val.csv\", index=False)\n",
        "test_df.to_csv(\"/content/drive/MyDrive/Colab Notebooks/omen_data_split/test.csv\", index=False)"
      ],
      "metadata": {
        "id": "xLpSQ4Ve4zY4"
      },
      "execution_count": null,
      "outputs": []
    },
    {
      "cell_type": "code",
      "source": [],
      "metadata": {
        "id": "RlNxkMqS6sK0"
      },
      "execution_count": null,
      "outputs": []
    }
  ]
}